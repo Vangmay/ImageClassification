{
 "cells": [
  {
   "cell_type": "code",
   "execution_count": 151,
   "id": "70a223d6",
   "metadata": {},
   "outputs": [],
   "source": [
    "import tensorflow as tf \n",
    "from tensorflow.keras import datasets,layers,models \n",
    "import matplotlib.pyplot as plt \n",
    "import numpy as np \n"
   ]
  },
  {
   "cell_type": "markdown",
   "id": "16129f2d",
   "metadata": {},
   "source": [
    "# Getting the data from the library"
   ]
  },
  {
   "cell_type": "code",
   "execution_count": 152,
   "id": "f8ec3d9e",
   "metadata": {},
   "outputs": [
    {
     "data": {
      "text/plain": [
       "(50000, 32, 32, 3)"
      ]
     },
     "execution_count": 152,
     "metadata": {},
     "output_type": "execute_result"
    }
   ],
   "source": [
    "(X_train,y_train),(X_test,y_test) = datasets.cifar10.load_data()\n",
    "X_train.shape"
   ]
  },
  {
   "cell_type": "code",
   "execution_count": 153,
   "id": "fc04d3e5",
   "metadata": {},
   "outputs": [
    {
     "data": {
      "text/plain": [
       "array([6, 9, 9, 4, 1], dtype=uint8)"
      ]
     },
     "execution_count": 153,
     "metadata": {},
     "output_type": "execute_result"
    }
   ],
   "source": [
    "y_train = y_train.reshape(-1,)\n",
    "y_train[:5]"
   ]
  },
  {
   "cell_type": "code",
   "execution_count": 154,
   "id": "fdff999c",
   "metadata": {},
   "outputs": [],
   "source": [
    "classes = [\"airplane\",\"automobile\",\"bird\",\"cat\",\"deer\",\"dog\",\"frog\",\"horse\",\"ship\",\"truck\"] \n",
    "#These are the different classes that our neural network will predict."
   ]
  },
  {
   "cell_type": "code",
   "execution_count": 155,
   "id": "c51bcb78",
   "metadata": {},
   "outputs": [],
   "source": [
    "def plot_sample(X,y,index):\n",
    "    plt.figure(figsize = (15,2))\n",
    "    plt.imshow(X[index])\n",
    "    plt.xlabel(classes[y[index]])\n",
    "    \n",
    "    \n",
    "    "
   ]
  },
  {
   "cell_type": "code",
   "execution_count": 156,
   "id": "db575919",
   "metadata": {},
   "outputs": [
    {
     "data": {
      "image/png": "[encoded data removed]",
      "text/plain": [
       "<Figure size 1080x144 with 1 Axes>"
      ]
     },
     "metadata": {
      "needs_background": "light"
     },
     "output_type": "display_data"
    }
   ],
   "source": [
    "plot_sample(X_train,y_train,11)"
   ]
  },
  {
   "cell_type": "code",
   "execution_count": 157,
   "id": "59250a8d",
   "metadata": {},
   "outputs": [
    {
     "name": "stdout",
     "output_type": "stream",
     "text": [
      "[[[142 149 152]\n",
      "  [172 172 167]\n",
      "  [176 168 154]\n",
      "  ...\n",
      "  [216 212 211]\n",
      "  [198 194 193]\n",
      "  [205 202 200]]\n",
      "\n",
      " [[191 190 192]\n",
      "  [196 192 190]\n",
      "  [174 166 159]\n",
      "  ...\n",
      "  [229 222 220]\n",
      "  [222 215 213]\n",
      "  [217 210 207]]\n",
      "\n",
      " [[220 212 212]\n",
      "  [217 209 208]\n",
      "  [192 183 182]\n",
      "  ...\n",
      "  [224 214 209]\n",
      "  [225 214 210]\n",
      "  [218 208 203]]\n",
      "\n",
      " ...\n",
      "\n",
      " [[197 152 136]\n",
      "  [196 152 135]\n",
      "  [201 156 140]\n",
      "  ...\n",
      "  [200 165 146]\n",
      "  [199 165 146]\n",
      "  [205 164 150]]\n",
      "\n",
      " [[196 157 139]\n",
      "  [191 152 135]\n",
      "  [193 154 136]\n",
      "  ...\n",
      "  [198 164 144]\n",
      "  [199 165 145]\n",
      "  [201 161 146]]\n",
      "\n",
      " [[186 150 133]\n",
      "  [182 147 130]\n",
      "  [174 139 121]\n",
      "  ...\n",
      "  [158 124 105]\n",
      "  [158 125 106]\n",
      "  [163 125 111]]]\n"
     ]
    }
   ],
   "source": [
    "#Sample representation of an Image \n",
    "print(X_train[11]) \n",
    "# All the values are between 0 - 255 as they all of them represent a pixel in RGB from. \\\n",
    "# Each array has 32 rows and columns, where each pixel is an array. "
   ]
  },
  {
   "cell_type": "code",
   "execution_count": 158,
   "id": "2010a1c6",
   "metadata": {},
   "outputs": [],
   "source": [
    "# Downscaling the image values"
   ]
  },
  {
   "cell_type": "code",
   "execution_count": 159,
   "id": "3b731865",
   "metadata": {},
   "outputs": [],
   "source": [
    "X_train = X_train / 255\n",
    "X_test = X_test / 255"
   ]
  },
  {
   "cell_type": "code",
   "execution_count": 160,
   "id": "4db87588",
   "metadata": {},
   "outputs": [
    {
     "name": "stdout",
     "output_type": "stream",
     "text": [
      "[[[0.55686275 0.58431373 0.59607843]\n",
      "  [0.6745098  0.6745098  0.65490196]\n",
      "  [0.69019608 0.65882353 0.60392157]\n",
      "  ...\n",
      "  [0.84705882 0.83137255 0.82745098]\n",
      "  [0.77647059 0.76078431 0.75686275]\n",
      "  [0.80392157 0.79215686 0.78431373]]\n",
      "\n",
      " [[0.74901961 0.74509804 0.75294118]\n",
      "  [0.76862745 0.75294118 0.74509804]\n",
      "  [0.68235294 0.65098039 0.62352941]\n",
      "  ...\n",
      "  [0.89803922 0.87058824 0.8627451 ]\n",
      "  [0.87058824 0.84313725 0.83529412]\n",
      "  [0.85098039 0.82352941 0.81176471]]\n",
      "\n",
      " [[0.8627451  0.83137255 0.83137255]\n",
      "  [0.85098039 0.81960784 0.81568627]\n",
      "  [0.75294118 0.71764706 0.71372549]\n",
      "  ...\n",
      "  [0.87843137 0.83921569 0.81960784]\n",
      "  [0.88235294 0.83921569 0.82352941]\n",
      "  [0.85490196 0.81568627 0.79607843]]\n",
      "\n",
      " ...\n",
      "\n",
      " [[0.77254902 0.59607843 0.53333333]\n",
      "  [0.76862745 0.59607843 0.52941176]\n",
      "  [0.78823529 0.61176471 0.54901961]\n",
      "  ...\n",
      "  [0.78431373 0.64705882 0.57254902]\n",
      "  [0.78039216 0.64705882 0.57254902]\n",
      "  [0.80392157 0.64313725 0.58823529]]\n",
      "\n",
      " [[0.76862745 0.61568627 0.54509804]\n",
      "  [0.74901961 0.59607843 0.52941176]\n",
      "  [0.75686275 0.60392157 0.53333333]\n",
      "  ...\n",
      "  [0.77647059 0.64313725 0.56470588]\n",
      "  [0.78039216 0.64705882 0.56862745]\n",
      "  [0.78823529 0.63137255 0.57254902]]\n",
      "\n",
      " [[0.72941176 0.58823529 0.52156863]\n",
      "  [0.71372549 0.57647059 0.50980392]\n",
      "  [0.68235294 0.54509804 0.4745098 ]\n",
      "  ...\n",
      "  [0.61960784 0.48627451 0.41176471]\n",
      "  [0.61960784 0.49019608 0.41568627]\n",
      "  [0.63921569 0.49019608 0.43529412]]]\n"
     ]
    }
   ],
   "source": [
    "print(X_train[11]) \n",
    "## The values are now all divided by 255"
   ]
  },
  {
   "cell_type": "code",
   "execution_count": 161,
   "id": "3a559da7",
   "metadata": {},
   "outputs": [
    {
     "data": {
      "image/png": "[encoded data removed]",
      "text/plain": [
       "<Figure size 1080x144 with 1 Axes>"
      ]
     },
     "metadata": {
      "needs_background": "light"
     },
     "output_type": "display_data"
    }
   ],
   "source": [
    "plot_sample(X_train,y_train,11)"
   ]
  },
  {
   "cell_type": "code",
   "execution_count": 162,
   "id": "fd5da087",
   "metadata": {},
   "outputs": [],
   "source": [
    "cnn = models.Sequential([\n",
    "    layers.Conv2D(filters=32, kernel_size=(3, 3), activation='relu', input_shape=(32, 32, 3)),\n",
    "    layers.MaxPooling2D((2, 2)),\n",
    "    \n",
    "    layers.Conv2D(filters=64, kernel_size=(3, 3), activation='relu'),\n",
    "    layers.MaxPooling2D((2, 2)),\n",
    "    \n",
    "    layers.Flatten(),\n",
    "    layers.Dense(64, activation='relu'),\n",
    "    layers.Dense(10, activation='softmax')\n",
    "])"
   ]
  },
  {
   "cell_type": "code",
   "execution_count": 163,
   "id": "868a9b5a",
   "metadata": {},
   "outputs": [],
   "source": [
    "cnn.compile(optimizer='adam',\n",
    "             loss='sparse_categorical_crossentropy',\n",
    "             metrics=['accuracy'])"
   ]
  },
  {
   "cell_type": "code",
   "execution_count": 165,
   "id": "f1fd9790",
   "metadata": {},
   "outputs": [
    {
     "name": "stdout",
     "output_type": "stream",
     "text": [
      "Epoch 1/15\n",
      "1563/1563 [==============================] - 30s 19ms/step - loss: 0.5126 - accuracy: 0.8198\n",
      "Epoch 2/15\n",
      " 228/1563 [===>..........................] - ETA: 24s - loss: 0.4516 - accuracy: 0.8450"
     ]
    },
    {
     "ename": "KeyboardInterrupt",
     "evalue": "",
     "output_type": "error",
     "traceback": [
      "\u001b[1;31m---------------------------------------------------------------------------\u001b[0m",
      "\u001b[1;31mKeyboardInterrupt\u001b[0m                         Traceback (most recent call last)",
      "Input \u001b[1;32mIn [165]\u001b[0m, in \u001b[0;36m<cell line: 1>\u001b[1;34m()\u001b[0m\n\u001b[1;32m----> 1\u001b[0m \u001b[43mcnn\u001b[49m\u001b[38;5;241;43m.\u001b[39;49m\u001b[43mfit\u001b[49m\u001b[43m(\u001b[49m\u001b[43mX_train\u001b[49m\u001b[43m,\u001b[49m\u001b[43my_train\u001b[49m\u001b[43m,\u001b[49m\u001b[43mepochs\u001b[49m\u001b[38;5;241;43m=\u001b[39;49m\u001b[38;5;241;43m15\u001b[39;49m\u001b[43m)\u001b[49m\n",
      "File \u001b[1;32mC:\\Python310\\lib\\site-packages\\keras\\utils\\traceback_utils.py:64\u001b[0m, in \u001b[0;36mfilter_traceback.<locals>.error_handler\u001b[1;34m(*args, **kwargs)\u001b[0m\n\u001b[0;32m     62\u001b[0m filtered_tb \u001b[38;5;241m=\u001b[39m \u001b[38;5;28;01mNone\u001b[39;00m\n\u001b[0;32m     63\u001b[0m \u001b[38;5;28;01mtry\u001b[39;00m:\n\u001b[1;32m---> 64\u001b[0m   \u001b[38;5;28;01mreturn\u001b[39;00m fn(\u001b[38;5;241m*\u001b[39margs, \u001b[38;5;241m*\u001b[39m\u001b[38;5;241m*\u001b[39mkwargs)\n\u001b[0;32m     65\u001b[0m \u001b[38;5;28;01mexcept\u001b[39;00m \u001b[38;5;167;01mException\u001b[39;00m \u001b[38;5;28;01mas\u001b[39;00m e:  \u001b[38;5;66;03m# pylint: disable=broad-except\u001b[39;00m\n\u001b[0;32m     66\u001b[0m   filtered_tb \u001b[38;5;241m=\u001b[39m _process_traceback_frames(e\u001b[38;5;241m.\u001b[39m__traceback__)\n",
      "File \u001b[1;32mC:\\Python310\\lib\\site-packages\\keras\\engine\\training.py:1413\u001b[0m, in \u001b[0;36mModel.fit\u001b[1;34m(self, x, y, batch_size, epochs, verbose, callbacks, validation_split, validation_data, shuffle, class_weight, sample_weight, initial_epoch, steps_per_epoch, validation_steps, validation_batch_size, validation_freq, max_queue_size, workers, use_multiprocessing)\u001b[0m\n\u001b[0;32m   1411\u001b[0m   context\u001b[38;5;241m.\u001b[39masync_wait()\n\u001b[0;32m   1412\u001b[0m logs \u001b[38;5;241m=\u001b[39m tmp_logs  \u001b[38;5;66;03m# No error, now safe to assign to logs.\u001b[39;00m\n\u001b[1;32m-> 1413\u001b[0m end_step \u001b[38;5;241m=\u001b[39m step \u001b[38;5;241m+\u001b[39m \u001b[43mdata_handler\u001b[49m\u001b[38;5;241;43m.\u001b[39;49m\u001b[43mstep_increment\u001b[49m\n\u001b[0;32m   1414\u001b[0m callbacks\u001b[38;5;241m.\u001b[39mon_train_batch_end(end_step, logs)\n\u001b[0;32m   1415\u001b[0m \u001b[38;5;28;01mif\u001b[39;00m \u001b[38;5;28mself\u001b[39m\u001b[38;5;241m.\u001b[39mstop_training:\n",
      "File \u001b[1;32mC:\\Python310\\lib\\site-packages\\keras\\engine\\data_adapter.py:1268\u001b[0m, in \u001b[0;36mDataHandler.step_increment\u001b[1;34m(self)\u001b[0m\n\u001b[0;32m   1265\u001b[0m       \u001b[38;5;28mself\u001b[39m\u001b[38;5;241m.\u001b[39m_current_step \u001b[38;5;241m+\u001b[39m\u001b[38;5;241m=\u001b[39m steps_remaining\n\u001b[0;32m   1266\u001b[0m       \u001b[38;5;28mself\u001b[39m\u001b[38;5;241m.\u001b[39m_steps_per_execution\u001b[38;5;241m.\u001b[39massign(original_spe)\n\u001b[1;32m-> 1268\u001b[0m \u001b[38;5;129m@property\u001b[39m\n\u001b[0;32m   1269\u001b[0m \u001b[38;5;28;01mdef\u001b[39;00m \u001b[38;5;21mstep_increment\u001b[39m(\u001b[38;5;28mself\u001b[39m):\n\u001b[0;32m   1270\u001b[0m   \u001b[38;5;124;03m\"\"\"The number to increment the step for `on_batch_end` methods.\"\"\"\u001b[39;00m\n\u001b[0;32m   1271\u001b[0m   \u001b[38;5;28;01mreturn\u001b[39;00m \u001b[38;5;28mself\u001b[39m\u001b[38;5;241m.\u001b[39m_step_increment\n",
      "\u001b[1;31mKeyboardInterrupt\u001b[0m: "
     ]
    }
   ],
   "source": [
    "cnn.fit(X_train,y_train,epochs=15)"
   ]
  },
  {
   "cell_type": "code",
   "execution_count": 63,
   "id": "fa9d1e09",
   "metadata": {},
   "outputs": [
    {
     "name": "stdout",
     "output_type": "stream",
     "text": [
      "313/313 [==============================] - 2s 7ms/step - loss: 0.9518 - accuracy: 0.6685\n"
     ]
    },
    {
     "data": {
      "text/plain": [
       "[0.9517645239830017, 0.6685000061988831]"
      ]
     },
     "execution_count": 63,
     "metadata": {},
     "output_type": "execute_result"
    }
   ],
   "source": [
    "cnn.evaluate(X_test,y_test) # Evaluating our model, checking its error value and accuracy"
   ]
  },
  {
   "cell_type": "code",
   "execution_count": 64,
   "id": "d7dd8704",
   "metadata": {},
   "outputs": [],
   "source": [
    "y_test = y_test.reshape(-1,)\n"
   ]
  },
  {
   "cell_type": "code",
   "execution_count": 65,
   "id": "e717079f",
   "metadata": {},
   "outputs": [
    {
     "data": {
      "image/png": "[encoded data removed]",
      "text/plain": [
       "<Figure size 1080x144 with 1 Axes>"
      ]
     },
     "metadata": {
      "needs_background": "light"
     },
     "output_type": "display_data"
    }
   ],
   "source": [
    "plot_sample(X_test,y_test,1)"
   ]
  },
  {
   "cell_type": "code",
   "execution_count": 66,
   "id": "44f414f7",
   "metadata": {},
   "outputs": [
    {
     "name": "stdout",
     "output_type": "stream",
     "text": [
      "313/313 [==============================] - 2s 6ms/step\n"
     ]
    },
    {
     "data": {
      "text/plain": [
       "array([[6.1271740e-03, 4.0145703e-03, 6.4076618e-03, 5.4344881e-01,\n",
       "        7.9682068e-04, 8.3168551e-02, 1.3756387e-01, 2.0540370e-04,\n",
       "        2.1554334e-01, 2.7237313e-03],\n",
       "       [2.2963425e-02, 3.2526761e-02, 5.7967292e-05, 1.3084207e-05,\n",
       "        2.9168959e-06, 3.1295113e-07, 5.3918006e-07, 2.3888681e-06,\n",
       "        9.4145501e-01, 2.9775517e-03],\n",
       "       [2.6071707e-02, 3.2423843e-02, 9.2385249e-04, 1.3510179e-03,\n",
       "        2.9779336e-04, 2.3870570e-04, 1.8029709e-04, 4.0908772e-04,\n",
       "        9.3294412e-01, 5.1596141e-03],\n",
       "       [6.3129640e-01, 4.5554776e-02, 2.9391065e-02, 4.6930476e-03,\n",
       "        1.3092758e-02, 6.7728054e-04, 5.8268779e-03, 1.0334724e-03,\n",
       "        2.6799595e-01, 4.3832691e-04],\n",
       "       [5.1331346e-05, 5.8223530e-05, 3.6127206e-02, 6.7361593e-02,\n",
       "        4.7649091e-01, 2.4117960e-02, 3.9487249e-01, 7.3605828e-04,\n",
       "        1.6558603e-04, 1.8628445e-05]], dtype=float32)"
      ]
     },
     "execution_count": 66,
     "metadata": {},
     "output_type": "execute_result"
    }
   ],
   "source": [
    "y_pred = cnn.predict(X_test) # Making our model output predictions\n",
    "y_pred[:5]"
   ]
  },
  {
   "cell_type": "code",
   "execution_count": 69,
   "id": "27a0b067",
   "metadata": {},
   "outputs": [
    {
     "data": {
      "text/plain": [
       "[3, 8, 8, 0, 4]"
      ]
     },
     "execution_count": 69,
     "metadata": {},
     "output_type": "execute_result"
    }
   ],
   "source": [
    "y_classes = [np.argmax(element) for element in y_pred] # Decoding the predictions\n",
    "y_classes[:5]"
   ]
  },
  {
   "cell_type": "code",
   "execution_count": 131,
   "id": "c99242f2",
   "metadata": {},
   "outputs": [
    {
     "name": "stdout",
     "output_type": "stream",
     "text": [
      "cat\n",
      "ship\n",
      "ship\n",
      "airplane\n",
      "deer\n"
     ]
    }
   ],
   "source": [
    "for Item in y_classes[:5]:\n",
    "    print(classes[Item])"
   ]
  },
  {
   "cell_type": "code",
   "execution_count": 138,
   "id": "1e9bbb38",
   "metadata": {},
   "outputs": [],
   "source": [
    "# Testing one image ourself just to be sure\n",
    "def test(ImageNumber):\n",
    "    Image = X_test[ImageNumber]\n",
    "    Image = Image.reshape(1,32,32,3)\n",
    "    predicted_thing = cnn.predict(Image)\n",
    "    plot_sample(X_test,y_test,ImageNumber)\n",
    "    prediction = [np.argmax(element) for element in predicted_thing]\n",
    "    print(\"The prediction value is: \", prediction)\n",
    "    print (\"The class is \",classes[prediction[0]])"
   ]
  },
  {
   "cell_type": "code",
   "execution_count": 141,
   "id": "84bcb81e",
   "metadata": {},
   "outputs": [
    {
     "data": {
      "text/plain": [
       "(1, 32, 32, 3)"
      ]
     },
     "execution_count": 141,
     "metadata": {},
     "output_type": "execute_result"
    }
   ],
   "source": [
    "X_test[50].reshape(1,32,32,3).shape"
   ]
  },
  {
   "cell_type": "code",
   "execution_count": 147,
   "id": "4149dad4",
   "metadata": {},
   "outputs": [
    {
     "name": "stdout",
     "output_type": "stream",
     "text": [
      "1/1 [==============================] - 0s 17ms/step\n",
      "The prediction value is:  [0]\n",
      "The class is  airplane\n"
     ]
    },
    {
     "data": {
      "image/png": "[encoded data removed]",
      "text/plain": [
       "<Figure size 1080x144 with 1 Axes>"
      ]
     },
     "metadata": {
      "needs_background": "light"
     },
     "output_type": "display_data"
    }
   ],
   "source": [
    "test(10)"
   ]
  },
  {
   "cell_type": "code",
   "execution_count": null,
   "id": "a0da6fe6",
   "metadata": {},
   "outputs": [],
   "source": []
  }
 ],
 "metadata": {
  "kernelspec": {
   "display_name": "Python 3 (ipykernel)",
   "language": "python",
   "name": "python3"
  },
  "language_info": {
   "codemirror_mode": {
    "name": "ipython",
    "version": 3
   },
   "file_extension": ".py",
   "mimetype": "text/x-python",
   "name": "python",
   "nbconvert_exporter": "python",
   "pygments_lexer": "ipython3",
   "version": "3.10.5"
  }
 },
 "nbformat": 4,
 "nbformat_minor": 5
}
